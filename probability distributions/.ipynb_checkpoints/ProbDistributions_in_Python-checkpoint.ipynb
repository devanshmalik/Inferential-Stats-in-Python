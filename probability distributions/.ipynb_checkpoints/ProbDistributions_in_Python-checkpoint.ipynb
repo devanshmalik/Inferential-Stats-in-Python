{
 "cells": [
  {
   "cell_type": "markdown",
   "metadata": {},
   "source": [
    "# Probability Distributions in Python\n",
    "Simulating different distributions in Python using various libraries"
   ]
  },
  {
   "cell_type": "code",
   "execution_count": 52,
   "metadata": {},
   "outputs": [],
   "source": [
    "import numpy as np\n",
    "import pandas as pd\n",
    "\n",
    "import matplotlib.pyplot as plt\n",
    "% matplotlib inline"
   ]
  },
  {
   "cell_type": "code",
   "execution_count": 5,
   "metadata": {},
   "outputs": [
    {
     "data": {
      "text/plain": [
       "1"
      ]
     },
     "execution_count": 5,
     "metadata": {},
     "output_type": "execute_result"
    }
   ],
   "source": [
    "# outcome of one coin flip\n",
    "np.random.randint(2)"
   ]
  },
  {
   "cell_type": "code",
   "execution_count": 8,
   "metadata": {},
   "outputs": [
    {
     "data": {
      "text/plain": [
       "array([1, 0, 1, ..., 0, 0, 1])"
      ]
     },
     "execution_count": 8,
     "metadata": {},
     "output_type": "execute_result"
    }
   ],
   "source": [
    "# outcomes of 10000 coin flips\n",
    "np.random.randint(2, size=10000)"
   ]
  },
  {
   "cell_type": "code",
   "execution_count": 11,
   "metadata": {},
   "outputs": [
    {
     "data": {
      "text/plain": [
       "0.4984"
      ]
     },
     "execution_count": 11,
     "metadata": {},
     "output_type": "execute_result"
    }
   ],
   "source": [
    "# mean outcome of 10000 coin flips\n",
    "np.random.randint(2, size=10000).mean()"
   ]
  },
  {
   "cell_type": "code",
   "execution_count": 14,
   "metadata": {},
   "outputs": [
    {
     "data": {
      "text/plain": [
       "1"
      ]
     },
     "execution_count": 14,
     "metadata": {},
     "output_type": "execute_result"
    }
   ],
   "source": [
    "# outcome of one coin flip\n",
    "np.random.choice([0,1])"
   ]
  },
  {
   "cell_type": "code",
   "execution_count": 15,
   "metadata": {},
   "outputs": [
    {
     "data": {
      "text/plain": [
       "array([1, 0, 0, ..., 0, 1, 1])"
      ]
     },
     "execution_count": 15,
     "metadata": {},
     "output_type": "execute_result"
    }
   ],
   "source": [
    "# outcome of 10000 coin flips\n",
    "np.random.choice([0,1], size=10000)"
   ]
  },
  {
   "cell_type": "code",
   "execution_count": 16,
   "metadata": {},
   "outputs": [
    {
     "data": {
      "text/plain": [
       "0.4999"
      ]
     },
     "execution_count": 16,
     "metadata": {},
     "output_type": "execute_result"
    }
   ],
   "source": [
    "# mean outcome of 10000 coin flips\n",
    "np.random.choice([0,1], size=10000).mean()"
   ]
  },
  {
   "cell_type": "code",
   "execution_count": 19,
   "metadata": {},
   "outputs": [
    {
     "data": {
      "text/plain": [
       "0.4019"
      ]
     },
     "execution_count": 19,
     "metadata": {},
     "output_type": "execute_result"
    }
   ],
   "source": [
    "# mean outcome of 10000 biased coin flips\n",
    "np.random.choice([0,1], size=10000, p=[0.6,0.4]).mean()"
   ]
  },
  {
   "cell_type": "markdown",
   "metadata": {},
   "source": [
    "## Multiple Coin Flips and Die Rolls\n",
    "Simulate probabilities of multiple coin flips and die rolls in Python"
   ]
  },
  {
   "cell_type": "markdown",
   "metadata": {},
   "source": [
    "### 1. Two fair coin flips produce exactly two heads"
   ]
  },
  {
   "cell_type": "code",
   "execution_count": 23,
   "metadata": {},
   "outputs": [
    {
     "data": {
      "text/plain": [
       "0.249889"
      ]
     },
     "execution_count": 23,
     "metadata": {},
     "output_type": "execute_result"
    }
   ],
   "source": [
    "# simulate 1 million tests of two fair coin flips\n",
    "tests = np.random.randint(2, size=(int(1e6), 2))\n",
    "\n",
    "# sum of all tests\n",
    "test_sums = tests.sum(axis=1)\n",
    "\n",
    "# proportion of tests that produced exactly two heads\n",
    "(test_sums == 0).mean()"
   ]
  },
  {
   "cell_type": "markdown",
   "metadata": {},
   "source": [
    "### 2. Three fair coin flips produce exactly one head"
   ]
  },
  {
   "cell_type": "code",
   "execution_count": 24,
   "metadata": {},
   "outputs": [
    {
     "data": {
      "text/plain": [
       "0.373822"
      ]
     },
     "execution_count": 24,
     "metadata": {},
     "output_type": "execute_result"
    }
   ],
   "source": [
    "# simulate 1 million tests of three fair coin flips\n",
    "tests = np.random.randint(2, size=(int(1e6), 3))\n",
    "\n",
    "# sum of all tests\n",
    "test_sums = tests.sum(axis=1)\n",
    "\n",
    "# proportion of tests that produced exactly one head\n",
    "(test_sums == 2).mean()"
   ]
  },
  {
   "cell_type": "markdown",
   "metadata": {},
   "source": [
    "### 3. Three biased coin flips with P(H) = 0.6 produce excatly one head"
   ]
  },
  {
   "cell_type": "code",
   "execution_count": 25,
   "metadata": {},
   "outputs": [
    {
     "data": {
      "text/plain": [
       "0.288461"
      ]
     },
     "execution_count": 25,
     "metadata": {},
     "output_type": "execute_result"
    }
   ],
   "source": [
    "# simulate 1 million tests of three biasedcoin flips\n",
    "tests = np.random.choice(2, size=(int(1e6), 3), p=[0.6, 0.4])\n",
    "\n",
    "# sum of all tests\n",
    "test_sums = tests.sum(axis=1)\n",
    "\n",
    "# proportion of tests that produced exactly one head\n",
    "(test_sums == 2).mean()"
   ]
  },
  {
   "cell_type": "markdown",
   "metadata": {},
   "source": [
    "### 4. A die rolls an even number"
   ]
  },
  {
   "cell_type": "code",
   "execution_count": 42,
   "metadata": {},
   "outputs": [
    {
     "name": "stdout",
     "output_type": "stream",
     "text": [
      "[3 4 4 ... 2 5 1]\n"
     ]
    },
    {
     "data": {
      "text/plain": [
       "0.499497"
      ]
     },
     "execution_count": 42,
     "metadata": {},
     "output_type": "execute_result"
    }
   ],
   "source": [
    "# simulate 1 million tests of one die roll\n",
    "tests = np.random.randint(1, high=7, size=int(1e6))\n",
    "\n",
    "# proportion of tests that produced an even number\n",
    "(tests%2 == 0).mean()"
   ]
  },
  {
   "cell_type": "code",
   "execution_count": 47,
   "metadata": {},
   "outputs": [
    {
     "name": "stdout",
     "output_type": "stream",
     "text": [
      "[[5 1]\n",
      " [1 6]\n",
      " [4 2]\n",
      " ...\n",
      " [4 6]\n",
      " [5 1]\n",
      " [4 3]]\n"
     ]
    },
    {
     "data": {
      "text/plain": [
       "0.167496"
      ]
     },
     "execution_count": 47,
     "metadata": {},
     "output_type": "execute_result"
    }
   ],
   "source": [
    "# simulate the first million die rolls\n",
    "rolls = np.random.randint(1, high=7, size=(int(1e6),2))\n",
    "\n",
    "# proportion of tests where the 1st and 2nd die rolled the same number\n",
    "(rolls[:,0] == rolls[:, 1]).mean()"
   ]
  },
  {
   "cell_type": "markdown",
   "metadata": {},
   "source": [
    "## Coin Flips using Binomial Distribution"
   ]
  },
  {
   "cell_type": "code",
   "execution_count": 48,
   "metadata": {},
   "outputs": [
    {
     "data": {
      "text/plain": [
       "4"
      ]
     },
     "execution_count": 48,
     "metadata": {},
     "output_type": "execute_result"
    }
   ],
   "source": [
    "# number of heads from 10 fair coin flips\n",
    "np.random.binomial(n=10, p=0.5)"
   ]
  },
  {
   "cell_type": "code",
   "execution_count": 50,
   "metadata": {},
   "outputs": [
    {
     "data": {
      "text/plain": [
       "array([6, 5, 3, 1, 7, 6, 8, 6, 6, 5, 2, 4, 6, 3, 6, 3, 4, 6, 6, 5])"
      ]
     },
     "execution_count": 50,
     "metadata": {},
     "output_type": "execute_result"
    }
   ],
   "source": [
    "# results from 20 tests with 10 fair coin flips \n",
    "np.random.binomial(10, 0.5, 20)"
   ]
  },
  {
   "cell_type": "code",
   "execution_count": 13,
   "metadata": {},
   "outputs": [
    {
     "data": {
      "text/plain": [
       "4.8499999999999996"
      ]
     },
     "execution_count": 13,
     "metadata": {},
     "output_type": "execute_result"
    }
   ],
   "source": [
    "# mean number of heads from the 20 tests\n",
    "np.random.binomial(10, 0.5, 20).mean()"
   ]
  },
  {
   "cell_type": "code",
   "execution_count": 51,
   "metadata": {},
   "outputs": [
    {
     "data": {
      "text/plain": [
       "4.999647"
      ]
     },
     "execution_count": 51,
     "metadata": {},
     "output_type": "execute_result"
    }
   ],
   "source": [
    "# reflects the fairness of the coin more closely as # tests increases\n",
    "np.random.binomial(10, 0.5, 1000000).mean()"
   ]
  },
  {
   "cell_type": "code",
   "execution_count": 54,
   "metadata": {},
   "outputs": [
    {
     "data": {
      "text/plain": [
       "(array([   927.,   9851.,  44238., 117288., 204981., 245631., 204980.,\n",
       "        117502.,  43947.,  10655.]),\n",
       " array([ 0.,  1.,  2.,  3.,  4.,  5.,  6.,  7.,  8.,  9., 10.]),\n",
       " <a list of 10 Patch objects>)"
      ]
     },
     "execution_count": 54,
     "metadata": {},
     "output_type": "execute_result"
    },
    {
     "data": {
      "image/png": "[encoded data removed]",
      "text/plain": [
       "<matplotlib.figure.Figure at 0x121874ac8>"
      ]
     },
     "metadata": {},
     "output_type": "display_data"
    }
   ],
   "source": [
    "plt.hist(np.random.binomial(10, 0.5, int(1e6)))"
   ]
  },
  {
   "cell_type": "code",
   "execution_count": 56,
   "metadata": {},
   "outputs": [
    {
     "data": {
      "text/plain": [
       "(array([1.70000e+01, 8.50000e+02, 1.67350e+04, 7.86530e+04, 2.86404e+05,\n",
       "        3.75564e+05, 1.75322e+05, 6.04910e+04, 5.76100e+03, 2.03000e+02]),\n",
       " array([25. , 29.7, 34.4, 39.1, 43.8, 48.5, 53.2, 57.9, 62.6, 67.3, 72. ]),\n",
       " <a list of 10 Patch objects>)"
      ]
     },
     "execution_count": 56,
     "metadata": {},
     "output_type": "execute_result"
    },
    {
     "data": {
      "image/png": "[encoded data removed]",
      "text/plain": [
       "<matplotlib.figure.Figure at 0x11f6abcf8>"
      ]
     },
     "metadata": {},
     "output_type": "display_data"
    }
   ],
   "source": [
    "# gets narrower as number of flips increase per test\n",
    "plt.hist(np.random.binomial(100, 0.5, int(1e6)))"
   ]
  },
  {
   "cell_type": "markdown",
   "metadata": {},
   "source": [
    "## Simulations using Binomial Distributions"
   ]
  },
  {
   "cell_type": "markdown",
   "metadata": {},
   "source": [
    "### 1. A fair coin flip produces heads"
   ]
  },
  {
   "cell_type": "code",
   "execution_count": 57,
   "metadata": {},
   "outputs": [
    {
     "data": {
      "text/plain": [
       "0.500162"
      ]
     },
     "execution_count": 57,
     "metadata": {},
     "output_type": "execute_result"
    }
   ],
   "source": [
    "# simulate 1 million tests of one fair coin flip\n",
    "# remember, the output of these tests are the # successes, or # heads\n",
    "tests = np.random.binomial(1, 0.5, int(1e6))\n",
    "\n",
    "# proportion of tests that produced heads\n",
    "(tests == 1).mean()"
   ]
  },
  {
   "cell_type": "markdown",
   "metadata": {},
   "source": [
    "### 2. Five fair coin flips produce exactly one head"
   ]
  },
  {
   "cell_type": "code",
   "execution_count": 60,
   "metadata": {},
   "outputs": [
    {
     "data": {
      "text/plain": [
       "0.156683"
      ]
     },
     "execution_count": 60,
     "metadata": {},
     "output_type": "execute_result"
    }
   ],
   "source": [
    "# simulate 1 million tests of 5 fair coin flips \n",
    "tests = np.random.binomial(5, 0.5, int(1e6))\n",
    "\n",
    "(tests == 1).mean()"
   ]
  },
  {
   "cell_type": "markdown",
   "metadata": {},
   "source": [
    "### 3. Ten fair coin flps produce exactly four heads"
   ]
  },
  {
   "cell_type": "code",
   "execution_count": 61,
   "metadata": {},
   "outputs": [
    {
     "data": {
      "text/plain": [
       "0.204973"
      ]
     },
     "execution_count": 61,
     "metadata": {},
     "output_type": "execute_result"
    }
   ],
   "source": [
    "# simulate 1 million tests of 5 fair coin flips \n",
    "tests = np.random.binomial(10, 0.5, int(1e6))\n",
    "\n",
    "(tests == 4).mean()"
   ]
  },
  {
   "cell_type": "markdown",
   "metadata": {},
   "source": [
    "### 4. Ten biased coin flips with P(H) = 0.15 produce 3 heads"
   ]
  },
  {
   "cell_type": "code",
   "execution_count": 62,
   "metadata": {},
   "outputs": [
    {
     "data": {
      "text/plain": [
       "0.129489"
      ]
     },
     "execution_count": 62,
     "metadata": {},
     "output_type": "execute_result"
    }
   ],
   "source": [
    "# simulate 1 million tests of ten biased coin flips\n",
    "tests = np.random.binomial(10, 0.15, int(1e6))\n",
    "\n",
    "# proportion of tests that produced at least 3 heads\n",
    "(tests == 3).mean()"
   ]
  },
  {
   "cell_type": "code",
   "execution_count": null,
   "metadata": {},
   "outputs": [],
   "source": []
  }
 ],
 "metadata": {
  "kernelspec": {
   "display_name": "Python [conda root]",
   "language": "python",
   "name": "conda-root-py"
  },
  "language_info": {
   "codemirror_mode": {
    "name": "ipython",
    "version": 3
   },
   "file_extension": ".py",
   "mimetype": "text/x-python",
   "name": "python",
   "nbconvert_exporter": "python",
   "pygments_lexer": "ipython3",
   "version": "3.6.4"
  }
 },
 "nbformat": 4,
 "nbformat_minor": 2
}
